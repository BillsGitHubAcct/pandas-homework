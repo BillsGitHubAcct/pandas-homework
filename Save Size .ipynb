{
 "cells": [
  {
   "cell_type": "code",
   "execution_count": null,
   "metadata": {
    "collapsed": true
   },
   "outputs": [],
   "source": [
    "sz_summary = schools_summary_table.rename(columns={ 'size':'School Size',\n",
    "                                                    'Math Score':'Average Math Score',\n",
    "                                                    'Reading Score':'Average Reading Score'})\n",
    "sz_summary['School Size']\n",
    "\n",
    "bins = [0, 1000, 2000, 5000] \n",
    "# Set up labels to compute when bins is updated\n",
    "group_labels = ['Small(<' + str(bins[1]-1) + ')', \n",
    "                'Medium (' + str(bins[1]) + \"-\" + str(bins[2]-1), \n",
    "                'Large (' + str(bins[3]) + \"-\" + str(bins[3])\n",
    "                \n",
    "group_labels\n",
    "                \n",
    "                # Add new column with range information based values in Per Student Budget\n",
    "               \n",
    "sz_summary['School Size'] = pd.cut(sz_summary['School Size'],bins, labels=group_labels)\n",
    "\n",
    "# Get needed columns \n",
    "sz_summary = sz_summary[['School Size ', \n",
    "                         'Average Math Score',\n",
    "                         'Average Reading Score',\n",
    "                         '% Passing Math',\n",
    "                         '% Passing Reading',\n",
    "                         '% Overall Passing Rate'\n",
    "                        ]]\n",
    "# Roll up to the Grouped By Object (School Size)\n",
    "sz_summary =sz_summary.groupby('School Size ')\n",
    "\n",
    "# Show Final Spending Range Summary\n",
    "sz_summary.max()\n"
   ]
  }
 ],
 "metadata": {
  "kernelspec": {
   "display_name": "Python 3",
   "language": "python",
   "name": "python3"
  },
  "language_info": {
   "codemirror_mode": {
    "name": "ipython",
    "version": 3
   },
   "file_extension": ".py",
   "mimetype": "text/x-python",
   "name": "python",
   "nbconvert_exporter": "python",
   "pygments_lexer": "ipython3",
   "version": "3.6.3"
  }
 },
 "nbformat": 4,
 "nbformat_minor": 2
}
